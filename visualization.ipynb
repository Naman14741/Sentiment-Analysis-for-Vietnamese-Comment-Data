{
 "cells": [
  {
   "cell_type": "code",
   "id": "initial_id",
   "metadata": {
    "collapsed": true,
    "ExecuteTime": {
     "end_time": "2024-11-10T16:21:41.250391Z",
     "start_time": "2024-11-10T16:21:04.971002Z"
    }
   },
   "source": [
    "# Load model directly\n",
    "from transformers import AutoTokenizer, AutoModelForSequenceClassification\n",
    "\n",
    "tokenizer = AutoTokenizer.from_pretrained(\"wonrax/phobert-base-vietnamese-sentiment\")\n",
    "model = AutoModelForSequenceClassification.from_pretrained(\"wonrax/phobert-base-vietnamese-sentiment\")"
   ],
   "outputs": [
    {
     "name": "stderr",
     "output_type": "stream",
     "text": [
      "C:\\Users\\hieuh\\.conda\\envs\\myenv\\lib\\site-packages\\tqdm\\auto.py:21: TqdmWarning: IProgress not found. Please update jupyter and ipywidgets. See https://ipywidgets.readthedocs.io/en/stable/user_install.html\n",
      "  from .autonotebook import tqdm as notebook_tqdm\n",
      "C:\\Users\\hieuh\\.conda\\envs\\myenv\\lib\\site-packages\\huggingface_hub\\file_download.py:159: UserWarning: `huggingface_hub` cache-system uses symlinks by default to efficiently store duplicated files but your machine does not support them in C:\\Users\\hieuh\\.cache\\huggingface\\hub\\models--wonrax--phobert-base-vietnamese-sentiment. Caching files will still work but in a degraded version that might require more space on your disk. This warning can be disabled by setting the `HF_HUB_DISABLE_SYMLINKS_WARNING` environment variable. For more details, see https://huggingface.co/docs/huggingface_hub/how-to-cache#limitations.\n",
      "To support symlinks on Windows, you either need to activate Developer Mode or to run Python as an administrator. In order to see activate developer mode, see this article: https://docs.microsoft.com/en-us/windows/apps/get-started/enable-your-device-for-development\n",
      "  warnings.warn(message)\n"
     ]
    }
   ],
   "execution_count": 1
  },
  {
   "metadata": {
    "ExecuteTime": {
     "end_time": "2024-11-10T16:26:28.672468Z",
     "start_time": "2024-11-10T16:26:28.618077Z"
    }
   },
   "cell_type": "code",
   "source": [
    "import pandas as pd\n",
    "\n",
    "df = pd.read_csv('data/raw_data/vnexpress.csv')\n",
    "df"
   ],
   "id": "d5eb2cf420587ed8",
   "outputs": [
    {
     "data": {
      "text/plain": [
       "      comment_id                                            content  label\n",
       "0       57507668  Tôi thấy nếu đã gửi thông báo mà sàn thương mạ...    0.0\n",
       "1       57511471  Người VN mình tự đầu độc nhau trên các sàn và ...   -1.0\n",
       "2       57511996  Có lợi nhuận thì họ kinh doanh thôi, cái quan ...    0.0\n",
       "3       57512103  Làm mà không được thì tự chịu, làm mà trôi chả...   -1.0\n",
       "4       57512263  Vấn đề đó không liên quan ở đây bạn ạ. Nếu đã ...    0.0\n",
       "...          ...                                                ...    ...\n",
       "6969    51607937  chụp CT thì bth thôi, 2 3 tháng chụp là bth, t...    NaN\n",
       "6970    51620966  Không sao đâu chú, liều y tế quy định nên suất...    NaN\n",
       "6971    51586792                                      Lương cao lắm    NaN\n",
       "6972    51600905  Quan trọng là sức khoẻ. Lương cao thì xứng đán...    NaN\n",
       "6973    51584770                              Thông tin thú vị quá!    NaN\n",
       "\n",
       "[6974 rows x 3 columns]"
      ],
      "text/html": [
       "<div>\n",
       "<style scoped>\n",
       "    .dataframe tbody tr th:only-of-type {\n",
       "        vertical-align: middle;\n",
       "    }\n",
       "\n",
       "    .dataframe tbody tr th {\n",
       "        vertical-align: top;\n",
       "    }\n",
       "\n",
       "    .dataframe thead th {\n",
       "        text-align: right;\n",
       "    }\n",
       "</style>\n",
       "<table border=\"1\" class=\"dataframe\">\n",
       "  <thead>\n",
       "    <tr style=\"text-align: right;\">\n",
       "      <th></th>\n",
       "      <th>comment_id</th>\n",
       "      <th>content</th>\n",
       "      <th>label</th>\n",
       "    </tr>\n",
       "  </thead>\n",
       "  <tbody>\n",
       "    <tr>\n",
       "      <th>0</th>\n",
       "      <td>57507668</td>\n",
       "      <td>Tôi thấy nếu đã gửi thông báo mà sàn thương mạ...</td>\n",
       "      <td>0.0</td>\n",
       "    </tr>\n",
       "    <tr>\n",
       "      <th>1</th>\n",
       "      <td>57511471</td>\n",
       "      <td>Người VN mình tự đầu độc nhau trên các sàn và ...</td>\n",
       "      <td>-1.0</td>\n",
       "    </tr>\n",
       "    <tr>\n",
       "      <th>2</th>\n",
       "      <td>57511996</td>\n",
       "      <td>Có lợi nhuận thì họ kinh doanh thôi, cái quan ...</td>\n",
       "      <td>0.0</td>\n",
       "    </tr>\n",
       "    <tr>\n",
       "      <th>3</th>\n",
       "      <td>57512103</td>\n",
       "      <td>Làm mà không được thì tự chịu, làm mà trôi chả...</td>\n",
       "      <td>-1.0</td>\n",
       "    </tr>\n",
       "    <tr>\n",
       "      <th>4</th>\n",
       "      <td>57512263</td>\n",
       "      <td>Vấn đề đó không liên quan ở đây bạn ạ. Nếu đã ...</td>\n",
       "      <td>0.0</td>\n",
       "    </tr>\n",
       "    <tr>\n",
       "      <th>...</th>\n",
       "      <td>...</td>\n",
       "      <td>...</td>\n",
       "      <td>...</td>\n",
       "    </tr>\n",
       "    <tr>\n",
       "      <th>6969</th>\n",
       "      <td>51607937</td>\n",
       "      <td>chụp CT thì bth thôi, 2 3 tháng chụp là bth, t...</td>\n",
       "      <td>NaN</td>\n",
       "    </tr>\n",
       "    <tr>\n",
       "      <th>6970</th>\n",
       "      <td>51620966</td>\n",
       "      <td>Không sao đâu chú, liều y tế quy định nên suất...</td>\n",
       "      <td>NaN</td>\n",
       "    </tr>\n",
       "    <tr>\n",
       "      <th>6971</th>\n",
       "      <td>51586792</td>\n",
       "      <td>Lương cao lắm</td>\n",
       "      <td>NaN</td>\n",
       "    </tr>\n",
       "    <tr>\n",
       "      <th>6972</th>\n",
       "      <td>51600905</td>\n",
       "      <td>Quan trọng là sức khoẻ. Lương cao thì xứng đán...</td>\n",
       "      <td>NaN</td>\n",
       "    </tr>\n",
       "    <tr>\n",
       "      <th>6973</th>\n",
       "      <td>51584770</td>\n",
       "      <td>Thông tin thú vị quá!</td>\n",
       "      <td>NaN</td>\n",
       "    </tr>\n",
       "  </tbody>\n",
       "</table>\n",
       "<p>6974 rows × 3 columns</p>\n",
       "</div>"
      ]
     },
     "execution_count": 10,
     "metadata": {},
     "output_type": "execute_result"
    }
   ],
   "execution_count": 10
  },
  {
   "metadata": {
    "ExecuteTime": {
     "end_time": "2024-11-10T16:37:10.300304Z",
     "start_time": "2024-11-10T16:37:09.794979Z"
    }
   },
   "cell_type": "code",
   "source": [
    "import torch\n",
    "import numpy as np\n",
    "\n",
    "def map_prediction(pred):\n",
    "    labels = [-1, 1, 0]  # -1 cho neg, 1 cho pos, 0 cho neu\n",
    "    max_index = np.argmax(pred)\n",
    "    return labels[max_index]\n",
    "\n",
    "for i in range(10):\n",
    "    text = df[\"content\"][i]\n",
    "    input_ids = torch.tensor([tokenizer.encode(text)])\n",
    "    with torch.no_grad():\n",
    "        out = model(input_ids)\n",
    "        print(map_prediction((out.logits.softmax(dim=-1).tolist())))"
   ],
   "id": "44c6a6a43a298817",
   "outputs": [
    {
     "name": "stdout",
     "output_type": "stream",
     "text": [
      "-1\n",
      "-1\n",
      "0\n",
      "-1\n",
      "-1\n",
      "-1\n",
      "0\n",
      "-1\n",
      "1\n",
      "-1\n"
     ]
    }
   ],
   "execution_count": 18
  }
 ],
 "metadata": {
  "kernelspec": {
   "display_name": "Python 3",
   "language": "python",
   "name": "python3"
  },
  "language_info": {
   "codemirror_mode": {
    "name": "ipython",
    "version": 2
   },
   "file_extension": ".py",
   "mimetype": "text/x-python",
   "name": "python",
   "nbconvert_exporter": "python",
   "pygments_lexer": "ipython2",
   "version": "2.7.6"
  }
 },
 "nbformat": 4,
 "nbformat_minor": 5
}
