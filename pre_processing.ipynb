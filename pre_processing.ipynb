{
 "cells": [
  {
   "metadata": {
    "ExecuteTime": {
     "end_time": "2024-11-12T06:33:46.167925Z",
     "start_time": "2024-11-12T06:33:44.950628Z"
    }
   },
   "cell_type": "code",
   "source": [
    "import pandas as pd\n",
    "import numpy as np\n",
    "from transform import PreProcessing"
   ],
   "id": "68a29a511e5a91c9",
   "outputs": [],
   "execution_count": 1
  },
  {
   "metadata": {
    "ExecuteTime": {
     "end_time": "2024-11-12T06:33:48.300782Z",
     "start_time": "2024-11-12T06:33:48.265012Z"
    }
   },
   "cell_type": "code",
   "source": [
    "# Load data\n",
    "raw_data = pd.read_csv('data/raw_data/vnexpress.csv', encoding='utf-8')\n",
    "label = pd.read_csv('data/raw_data/sentiment_predictions.csv', encoding='utf-8')"
   ],
   "id": "f15d88d29120006a",
   "outputs": [],
   "execution_count": 2
  },
  {
   "metadata": {
    "ExecuteTime": {
     "end_time": "2024-11-12T06:33:53.183674Z",
     "start_time": "2024-11-12T06:33:50.411920Z"
    }
   },
   "cell_type": "code",
   "source": [
    "# Preprocessing data\n",
    "data = pd.DataFrame({\n",
    "    'comment': [PreProcessing(content).process() for content in raw_data['content']],\n",
    "    'label': np.where(\n",
    "        ((raw_data.index < 1000) | ((raw_data.index > 2000) & (raw_data.index < 2135))),\n",
    "        raw_data['label'],\n",
    "        label['Sentiment']\n",
    "    )\n",
    "})\n",
    "\n",
    "# Fill NaN values in the 'label' column and cast to integer\n",
    "data['label'] = data['label'].fillna(0).astype(int)\n",
    "\n",
    "# Save data\n",
    "data.to_csv('data/vnexpress.csv', index=False)"
   ],
   "id": "ba17f8aa0f92b",
   "outputs": [],
   "execution_count": 3
  },
  {
   "metadata": {},
   "cell_type": "code",
   "source": "",
   "id": "ebf92e4f07f50950",
   "outputs": [],
   "execution_count": null
  }
 ],
 "metadata": {
  "kernelspec": {
   "display_name": "Python 3",
   "language": "python",
   "name": "python3"
  },
  "language_info": {
   "codemirror_mode": {
    "name": "ipython",
    "version": 2
   },
   "file_extension": ".py",
   "mimetype": "text/x-python",
   "name": "python",
   "nbconvert_exporter": "python",
   "pygments_lexer": "ipython2",
   "version": "2.7.6"
  }
 },
 "nbformat": 4,
 "nbformat_minor": 5
}
