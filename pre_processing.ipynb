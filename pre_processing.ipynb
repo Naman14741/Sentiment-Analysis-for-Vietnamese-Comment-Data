{
 "cells": [
  {
   "metadata": {},
   "cell_type": "code",
   "source": [
    "import pandas as pd\n",
    "import numpy as np\n",
    "from transform import PreProcessing"
   ],
   "id": "68a29a511e5a91c9",
   "outputs": [],
   "execution_count": null
  },
  {
   "metadata": {},
   "cell_type": "code",
   "source": [
    "# Load data\n",
    "raw_data = pd.read_csv('data/raw_data/vnexpress.csv', encoding='utf-8')\n",
    "label = pd.read_csv('data/raw_data/sentiment_predictions.csv', encoding='utf-8')"
   ],
   "id": "f15d88d29120006a",
   "outputs": [],
   "execution_count": null
  },
  {
   "metadata": {},
   "cell_type": "code",
   "source": [
    "# Preprocessing data\n",
    "data = pd.DataFrame({\n",
    "    'comment': [PreProcessing(content).process() for content in raw_data['content']],\n",
    "    'label': np.where(\n",
    "        ((raw_data.index < 1000) | ((raw_data.index > 2000) & (raw_data.index < 2135))),\n",
    "        raw_data['label'],\n",
    "        label['Sentiment']\n",
    "    )\n",
    "})\n",
    "\n",
    "data['label'] = data['label'].fillna(0).astype(int)\n",
    "\n",
    "data = data[(data['comment'].str.strip() != '') & (data['label'] != '')]\n",
    "\n",
    "data.to_csv('data/vnexpress.csv', index=False)"
   ],
   "id": "ba17f8aa0f92b",
   "outputs": [],
   "execution_count": null
  },
  {
   "metadata": {},
   "cell_type": "code",
   "source": [
    "import pandas as pd\n",
    "from collections import Counter\n",
    "\n",
    "words = Counter()\n",
    "\n",
    "for comment in data['comment']:\n",
    "    words.update(comment.split())\n",
    "\n",
    "words = pd.DataFrame(words.items(), columns=['word', 'count'])\n",
    "words = words.sort_values(by='count', ascending=False).reset_index(drop=True)\n",
    "\n",
    "print(words[words['count'] == 1]['word'])\n"
   ],
   "id": "ebf92e4f07f50950",
   "outputs": [],
   "execution_count": null
  }
 ],
 "metadata": {
  "kernelspec": {
   "display_name": "Python 3",
   "language": "python",
   "name": "python3"
  },
  "language_info": {
   "codemirror_mode": {
    "name": "ipython",
    "version": 2
   },
   "file_extension": ".py",
   "mimetype": "text/x-python",
   "name": "python",
   "nbconvert_exporter": "python",
   "pygments_lexer": "ipython2",
   "version": "2.7.6"
  }
 },
 "nbformat": 4,
 "nbformat_minor": 5
}
