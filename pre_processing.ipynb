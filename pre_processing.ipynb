{
 "cells": [
  {
   "metadata": {},
   "cell_type": "markdown",
   "source": [
    "## Preprocessing data & prepare data for training\n",
    "#### Loại bỏ dấu câu\n",
    "#### Loại bỏ icon\n",
    "#### Loại bỏ chữ viết hoa(lowercase)\n",
    "#### Loại bỏ kí tự lặp lại\n",
    "#### Xử lý từ viết tắt\n",
    "#### Tokenizer\n"
   ],
   "id": "60cffa3ca88942c5"
  },
  {
   "metadata": {},
   "cell_type": "code",
   "outputs": [],
   "execution_count": null,
   "source": "",
   "id": "68a29a511e5a91c9"
  }
 ],
 "metadata": {
  "kernelspec": {
   "display_name": "Python 3",
   "language": "python",
   "name": "python3"
  },
  "language_info": {
   "codemirror_mode": {
    "name": "ipython",
    "version": 2
   },
   "file_extension": ".py",
   "mimetype": "text/x-python",
   "name": "python",
   "nbconvert_exporter": "python",
   "pygments_lexer": "ipython2",
   "version": "2.7.6"
  }
 },
 "nbformat": 4,
 "nbformat_minor": 5
}
